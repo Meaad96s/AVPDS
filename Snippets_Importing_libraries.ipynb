{
  "cells": [
    {
      "cell_type": "markdown",
      "metadata": {
        "id": "view-in-github",
        "colab_type": "text"
      },
      "source": [
        "<a href=\"https://colab.research.google.com/github/Meaad96s/AVPDS/blob/master/Snippets_Importing_libraries.ipynb\" target=\"_parent\"><img src=\"https://colab.research.google.com/assets/colab-badge.svg\" alt=\"Open In Colab\"/></a>"
      ]
    },
    {
      "cell_type": "markdown",
      "metadata": {
        "id": "kDn_lVxg3Z2G"
      },
      "source": [
        "# Linear Algebra with Python\n"
      ]
    },
    {
      "cell_type": "code",
      "execution_count": 1,
      "metadata": {
        "id": "GQ18Kd5F3uKe"
      },
      "outputs": [],
      "source": [
        "import numpy as np\n",
        "import numpy.linalg as la\n",
        "import matplotlib.pyplot as plt"
      ]
    },
    {
      "cell_type": "code",
      "execution_count": 10,
      "metadata": {
        "colab": {
          "base_uri": "https://localhost:8080/"
        },
        "id": "__3eqm3q3sr-",
        "outputId": "306a2612-6118-4bf9-82cf-fdd03d0a9b4d"
      },
      "outputs": [
        {
          "output_type": "stream",
          "name": "stdout",
          "text": [
            "[[ 1 -2  3]\n",
            " [ 4  5 -6]]\n"
          ]
        }
      ],
      "source": [
        "A= np.array([[1,-2,3],[4,5,-6]])\n",
        "print(A)"
      ]
    },
    {
      "cell_type": "code",
      "source": [
        "B = np.array([[3,0,2],[-7,1,8]])\n",
        "print(B)"
      ],
      "metadata": {
        "id": "RxEA5abGn8Kj",
        "outputId": "c19eb811-845b-4b3d-aeb0-f6d18e888d56",
        "colab": {
          "base_uri": "https://localhost:8080/"
        }
      },
      "execution_count": 9,
      "outputs": [
        {
          "output_type": "stream",
          "name": "stdout",
          "text": [
            "[[ 3  0  2]\n",
            " [-7  1  8]]\n"
          ]
        }
      ]
    },
    {
      "cell_type": "code",
      "source": [
        "A_plus_B = A+B\n",
        "print(\"solution to A+B:\\n\",A+B)"
      ],
      "metadata": {
        "id": "PvbiC_eapRJZ",
        "outputId": "2fbbcd74-42f7-4298-f699-678f5565d586",
        "colab": {
          "base_uri": "https://localhost:8080/"
        }
      },
      "execution_count": 12,
      "outputs": [
        {
          "output_type": "stream",
          "name": "stdout",
          "text": [
            "solution to A+B:\n",
            " [[ 4 -2  5]\n",
            " [-3  6  2]]\n"
          ]
        }
      ]
    },
    {
      "cell_type": "code",
      "source": [
        "AB_solution = 2*A-3*B\n",
        "print(AB_solution)"
      ],
      "metadata": {
        "id": "j6KljM41pxuH",
        "outputId": "759ee43d-c06f-4797-a5de-f1cb62fdb2a3",
        "colab": {
          "base_uri": "https://localhost:8080/"
        }
      },
      "execution_count": 15,
      "outputs": [
        {
          "output_type": "stream",
          "name": "stdout",
          "text": [
            "[[ -7  -4   0]\n",
            " [ 29   7 -36]]\n"
          ]
        }
      ]
    },
    {
      "cell_type": "markdown",
      "source": [
        "----------------------------------------------------------**2**"
      ],
      "metadata": {
        "id": "PIhMKXu7qKZ-"
      }
    },
    {
      "cell_type": "code",
      "source": [
        "np.transpose(A+B) == np.transpose(A) + np.transpose(B)"
      ],
      "metadata": {
        "id": "TOS7coSJowCR",
        "outputId": "79ae5630-da10-4473-a6f3-ec72e82c87a9",
        "colab": {
          "base_uri": "https://localhost:8080/"
        }
      },
      "execution_count": 17,
      "outputs": [
        {
          "output_type": "execute_result",
          "data": {
            "text/plain": [
              "array([[ True,  True],\n",
              "       [ True,  True],\n",
              "       [ True,  True]])"
            ]
          },
          "metadata": {},
          "execution_count": 17
        }
      ]
    },
    {
      "cell_type": "markdown",
      "source": [
        "\n",
        "\n",
        "```\n",
        "`# 3 ##`\n",
        "```\n",
        "\n"
      ],
      "metadata": {
        "id": "DIuc6yVSq8Jz"
      }
    },
    {
      "cell_type": "code",
      "source": [
        "print(\"verify if (A+B).T=A.T+B.T:\\n\",np.allclose((A+B).T,A.T+B.T))"
      ],
      "metadata": {
        "id": "0g2qMR6Qq4u0",
        "outputId": "7e5c5832-981f-42b6-cd43-bec94921370d",
        "colab": {
          "base_uri": "https://localhost:8080/"
        }
      },
      "execution_count": 21,
      "outputs": [
        {
          "output_type": "stream",
          "name": "stdout",
          "text": [
            "verify if (A+B).T=A.T+B.T:\n",
            " True\n"
          ]
        }
      ]
    },
    {
      "cell_type": "markdown",
      "source": [
        "**Question 2**\n",
        "\n",
        "---\n",
        "\n",
        "\n",
        "\n",
        "---\n",
        "\n"
      ],
      "metadata": {
        "id": "cwwBshnprmE1"
      }
    },
    {
      "cell_type": "code",
      "source": [
        "A2 =  np.array([[1,3],[2,-1]])\n",
        "A2"
      ],
      "metadata": {
        "id": "CE4ZhZxrrphO",
        "outputId": "9ecf9bd9-a617-4b84-b7fe-4f96eb039865",
        "colab": {
          "base_uri": "https://localhost:8080/"
        }
      },
      "execution_count": 23,
      "outputs": [
        {
          "output_type": "execute_result",
          "data": {
            "text/plain": [
              "array([[ 1,  3],\n",
              "       [ 2, -1]])"
            ]
          },
          "metadata": {},
          "execution_count": 23
        }
      ]
    },
    {
      "cell_type": "code",
      "source": [
        "B2= np.array([[2,0],[3,-2]])\n",
        "B2"
      ],
      "metadata": {
        "id": "kU1kMY0Or2cF",
        "outputId": "9152feab-68f9-4194-c88a-8c4f8c88ed64",
        "colab": {
          "base_uri": "https://localhost:8080/"
        }
      },
      "execution_count": 25,
      "outputs": [
        {
          "output_type": "execute_result",
          "data": {
            "text/plain": [
              "array([[ 2,  0],\n",
              "       [ 3, -2]])"
            ]
          },
          "metadata": {},
          "execution_count": 25
        }
      ]
    },
    {
      "cell_type": "code",
      "source": [
        "AB = A2 @ B2\n",
        "AB"
      ],
      "metadata": {
        "id": "tnJkU8RMr-RG",
        "outputId": "31609b72-b726-4f4b-e485-f855fb82f91f",
        "colab": {
          "base_uri": "https://localhost:8080/"
        }
      },
      "execution_count": 28,
      "outputs": [
        {
          "output_type": "execute_result",
          "data": {
            "text/plain": [
              "array([[11, -6],\n",
              "       [ 1,  2]])"
            ]
          },
          "metadata": {},
          "execution_count": 28
        }
      ]
    },
    {
      "cell_type": "code",
      "source": [
        "BA = B2 @ A2\n",
        "BA"
      ],
      "metadata": {
        "id": "BhmRxFEqsTek",
        "outputId": "7359c451-fe53-49f2-b10d-1df46a80c509",
        "colab": {
          "base_uri": "https://localhost:8080/"
        }
      },
      "execution_count": 30,
      "outputs": [
        {
          "output_type": "execute_result",
          "data": {
            "text/plain": [
              "array([[ 2,  6],\n",
              "       [-1, 11]])"
            ]
          },
          "metadata": {},
          "execution_count": 30
        }
      ]
    },
    {
      "cell_type": "code",
      "source": [
        "print(\"verify if AB and BA are equal:\\n\",np.allclose((A2 & B2), B2 @ A2))"
      ],
      "metadata": {
        "id": "YFNGl6Dosq_q",
        "outputId": "30e6511d-a628-4369-a610-ad9e32a63a04",
        "colab": {
          "base_uri": "https://localhost:8080/"
        }
      },
      "execution_count": 31,
      "outputs": [
        {
          "output_type": "stream",
          "name": "stdout",
          "text": [
            "verify if AB and BA are equal:\n",
            " False\n"
          ]
        }
      ]
    },
    {
      "cell_type": "code",
      "source": [],
      "metadata": {
        "id": "_90fL37htFB1"
      },
      "execution_count": null,
      "outputs": []
    }
  ],
  "metadata": {
    "colab": {
      "name": "Snippets: Importing libraries",
      "provenance": [],
      "include_colab_link": true
    },
    "kernelspec": {
      "display_name": "Python 3",
      "name": "python3"
    }
  },
  "nbformat": 4,
  "nbformat_minor": 0
}